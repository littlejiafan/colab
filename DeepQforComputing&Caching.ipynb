{
  "nbformat": 4,
  "nbformat_minor": 0,
  "metadata": {
    "colab": {
      "name": "DeepQforComputing&Caching.ipynb",
      "version": "0.3.2",
      "provenance": [],
      "collapsed_sections": []
    },
    "kernelspec": {
      "display_name": "Python 3",
      "language": "python",
      "name": "python3"
    },
    "accelerator": "GPU"
  },
  "cells": [
    {
      "cell_type": "markdown",
      "metadata": {
        "id": "view-in-github",
        "colab_type": "text"
      },
      "source": [
        "[View in Colaboratory](https://colab.research.google.com/github/littlejiafan/colab/blob/master/DeepQforComputing&Caching.ipynb)"
      ]
    },
    {
      "metadata": {
        "id": "NWPR8ZxVkRPZ",
        "colab_type": "text"
      },
      "cell_type": "markdown",
      "source": [
        "# Import Packages&Parameter Setting"
      ]
    },
    {
      "metadata": {
        "id": "nLkPBPukYsA-",
        "colab_type": "code",
        "colab": {
          "base_uri": "https://localhost:8080/",
          "height": 36
        },
        "outputId": "751df15d-1bbd-4eca-8fad-37ec818c4c08"
      },
      "cell_type": "code",
      "source": [
        "# 显示进度的小工具\n",
        "!pip install tqdm"
      ],
      "execution_count": 21,
      "outputs": [
        {
          "output_type": "stream",
          "text": [
            "Requirement already satisfied: tqdm in /usr/local/lib/python3.6/dist-packages (4.23.3)\r\n"
          ],
          "name": "stdout"
        }
      ]
    },
    {
      "metadata": {
        "id": "AypHaI9wXraA",
        "colab_type": "code",
        "colab": {}
      },
      "cell_type": "code",
      "source": [
        "import time\n",
        "import sys\n",
        "\n",
        "import numpy as np\n",
        "import tensorflow as tf\n",
        "\n",
        "import matplotlib \n",
        "import matplotlib.pyplot as plt\n",
        "%matplotlib inline\n",
        "from tqdm import tqdm\n",
        "np.random.seed(1)\n",
        "tf.set_random_seed(1)"
      ],
      "execution_count": 0,
      "outputs": []
    },
    {
      "metadata": {
        "id": "oXeNZDZCazig",
        "colab_type": "code",
        "colab": {
          "base_uri": "https://localhost:8080/",
          "height": 38
        },
        "outputId": "0d500d3f-d647-451d-d40f-fadb598c66d5"
      },
      "cell_type": "code",
      "source": [
        "#检测一下有没有GPU可以用\n",
        "\n",
        "device_name = tf.test.gpu_device_name()\n",
        "if device_name != '/device:GPU:0':\n",
        "    raise SystemError('GPU device not found')\n",
        "print('Found GPU at: {}'.format(device_name))"
      ],
      "execution_count": 3,
      "outputs": [
        {
          "output_type": "stream",
          "text": [
            "Found GPU at: /device:GPU:0\n"
          ],
          "name": "stdout"
        }
      ]
    },
    {
      "metadata": {
        "id": "VhnusjxdYlQf",
        "colab_type": "code",
        "colab": {}
      },
      "cell_type": "code",
      "source": [
        "# 因为参数太多了，很多参数直接在代码里直接用了\n",
        "\n",
        "bs_number = 3  # number of base stations\n",
        "user_number = 9  # number of users\n",
        "channel_state = [[0.6,0.3,0.1],[0.3,0.1,0.6],[0.1,0.6,0.3]]  # Transition probability of computation capbility: Good, Medium, Bad\n",
        "snr = [1, 3, 5]\n",
        "bandwidth = 5 # MHz\n",
        "cache_type = 3 \n",
        "\n",
        "charge1 = 10\n",
        "charge2 = 1\n",
        "charge3 = 3\n",
        "charge4 = 4\n",
        "rho = 1\n",
        "pay1 = 2\n",
        "pay2 = 3\n",
        "pay3 = 1\n",
        "pay4 = 1 # 缓存状态更新代价\n",
        "CPU_cycle = 100\n",
        "content_size = 1\n",
        "computation_capbility = 8\n",
        "effect_factor = 0.9"
      ],
      "execution_count": 0,
      "outputs": []
    },
    {
      "metadata": {
        "id": "MYfreQzPdYnV",
        "colab_type": "text"
      },
      "cell_type": "markdown",
      "source": [
        "# State&Action"
      ]
    },
    {
      "metadata": {
        "id": "JCdvIt7ujzHy",
        "colab_type": "code",
        "colab": {}
      },
      "cell_type": "code",
      "source": [
        "# 由于缓存组合只有三种，分别用0, 1, 2表示缓存组合的类型，即0为支持type1和type2类型的缓存\n",
        "\n",
        "# state格式:每个基站支持缓存的类型，用户的缓存状态，snr矩阵\n",
        "\n",
        "state = np.array([0]*bs_number + [0]*user_number + [1]*user_number*bs_number)\n",
        "n_features = bs_number + user_number + user_number*bs_number\n",
        "\n",
        "# action格式:每个基站将要支持的缓存类型\n",
        "\n",
        "action = np.array([0]*bs_number) # 表明选择不缓存0类型\n",
        "action_number = cache_type**bs_number"
      ],
      "execution_count": 0,
      "outputs": []
    },
    {
      "metadata": {
        "id": "dXqLbX39BeCR",
        "colab_type": "code",
        "colab": {}
      },
      "cell_type": "code",
      "source": [
        "# 对state和action进行reset，这是完成一次训练后的重新开始\n",
        "\n",
        "def reset(state, action):\n",
        "    state = np.array([0]*bs_number + [0]*user_number + [1]*user_number*bs_number)\n",
        "    action = np.array([0]*bs_number)"
      ],
      "execution_count": 0,
      "outputs": []
    },
    {
      "metadata": {
        "id": "5-4sTxyLdDUf",
        "colab_type": "code",
        "colab": {
          "base_uri": "https://localhost:8080/",
          "height": 79
        },
        "outputId": "43c80963-af7c-4963-d871-c6d4b20e17ff"
      },
      "cell_type": "code",
      "source": [
        "print(state)\n",
        "print(action)"
      ],
      "execution_count": 7,
      "outputs": [
        {
          "output_type": "stream",
          "text": [
            "[0 0 0 0 0 0 0 0 0 0 0 0 1 1 1 1 1 1 1 1 1 1 1 1 1 1 1 1 1 1 1 1 1 1 1 1 1\n",
            " 1 1]\n",
            "[0 0 0]\n"
          ],
          "name": "stdout"
        }
      ]
    },
    {
      "metadata": {
        "id": "fNhirnsrlz7n",
        "colab_type": "text"
      },
      "cell_type": "markdown",
      "source": [
        "# State Transition&Reward"
      ]
    },
    {
      "metadata": {
        "id": "mpjEF8BH-LwY",
        "colab_type": "code",
        "colab": {}
      },
      "cell_type": "code",
      "source": [
        "'''\n",
        "本节和下节为仿真的重点。move是根据action对status进行修正，计算相应的reward并进行修正。\n",
        "'''\n",
        "\n",
        "def move(state, action):\n",
        "    state_ = state.copy() # 记录当前状态\n",
        "    \n",
        "    bs_status = state[:bs_number]\n",
        "    # print(\"bs:\",bs_status)\n",
        "    user_status = state[bs_number:bs_number + user_number]\n",
        "    # print(\"user:\",user_status)\n",
        "    user_bs_snr = state[bs_number + user_number:]\n",
        "    user_bs_snr = np.reshape(user_bs_snr, (user_number, bs_number))\n",
        "    \n",
        "    count = 0 # 统计缓存类型需要变更的基站数量\n",
        "    \n",
        "    # 根据action修改缓存类型\n",
        "    \n",
        "    for i in range(bs_number):\n",
        "        if action[i] == 0:\n",
        "            if bs_status[i] != 0:\n",
        "                count += 1\n",
        "                bs_status[i] = 0\n",
        "        elif action[i] == 1:\n",
        "            if bs_status[i] != 1:\n",
        "                count += 1\n",
        "                bs_status[i] = 1\n",
        "        elif action[i] == 2:\n",
        "            if bs_status[i] != 2:\n",
        "                count += 1\n",
        "                bs_status[i] = 2\n",
        "    \n",
        "    # 对每个基站连接的用户状态进行统计，每个用户连接snr最优的基站\n",
        "    \n",
        "    choice = []  # 记录每个用户这次所连接的基站序号\n",
        "    for i in range(user_number):\n",
        "        choice.append(np.argmax(user_bs_snr[i]))\n",
        "        \n",
        "    offloading_decision = []  # 记录offloading decision，对应文中的d\n",
        "    for i in range(user_number):\n",
        "        if bs_status[choice[i]] == user_status[i]:\n",
        "            offloading_decision.append(0)\n",
        "        else:\n",
        "            offloading_decision.append(1)\n",
        "    \n",
        "    # 计算reward, we assume B_m equals., g_m equals. JUST TO SIMPLIFY.\n",
        "    reward = (charge1 - pay1)*bandwidth*user_number - count*pay4\n",
        "    # print(user_bs_snr)\n",
        "    \n",
        "    for i in range(user_number):\n",
        "        reward += (charge2 - pay2)*offloading_decision[i]*user_bs_snr[i, choice[i]]*bandwidth\\\n",
        "        + (1 - offloading_decision[i])*(charge4*computation_capbility/rho - rho*pay3*(computation_capbility)**2)\\\n",
        "        + (1 - offloading_decision[i])*bandwidth*user_bs_snr[i, choice[i]]\n",
        "\n",
        "    # 本文的状态转变主要是snr马尔科夫，其次是用户的需求分布\n",
        "    \n",
        "    for i in range(user_number):\n",
        "        for j in range(bs_number):\n",
        "            temp = np.random.uniform()\n",
        "            if user_bs_snr[i, j] == 1:\n",
        "                if temp < 0.1:\n",
        "                    user_bs_snr[i, j] = 5\n",
        "                elif temp<0.7:\n",
        "                    user_bs_snr[i, j] = 3\n",
        "            if user_bs_snr[i, j] == 3:\n",
        "                if temp < 0.3:\n",
        "                    user_bs_snr[i, j] = 5\n",
        "                elif temp < 0.9:\n",
        "                    user_bs_snr[i, j] = 1\n",
        "            if user_bs_snr[i, j] == 5:\n",
        "                if temp < 0.1:\n",
        "                    user_bs_snr[i, j] = 1\n",
        "                elif temp < 0.4:\n",
        "                    user_bs_snr[i, j] = 3\n",
        "    for i in range(user_number):\n",
        "        temp = np.random.uniform()\n",
        "        if temp < 0.25:\n",
        "            user_status[i] = 0\n",
        "        elif temp < 0.5:\n",
        "            user_status[i] = 1\n",
        "        elif temp < 0.75:\n",
        "            user_status[i] = 2\n",
        "    \n",
        "    # 将新的shape整合成原先的shape\n",
        "    \n",
        "    user_bs_snr = np.reshape(user_bs_snr, user_number*bs_number)\n",
        "    # print()\n",
        "    # print(type(bs_status))\n",
        "    # print(\"bs_status:\", bs_status)\n",
        "    # print(\"user:\", user_status)\n",
        "    # print(\"snr:\", user_bs_snr)\n",
        "    state = np.concatenate((bs_status, user_status, user_bs_snr))\n",
        "    \n",
        "    return state_, reward"
      ],
      "execution_count": 0,
      "outputs": []
    },
    {
      "metadata": {
        "id": "Pv1ipngOYAvH",
        "colab_type": "text"
      },
      "cell_type": "markdown",
      "source": [
        "# DeepQNetwork Class"
      ]
    },
    {
      "metadata": {
        "id": "gLOmn-Blb4ll",
        "colab_type": "code",
        "colab": {}
      },
      "cell_type": "code",
      "source": [
        "class DeepQNetwork:\n",
        "    def __init__(\n",
        "            self,\n",
        "            n_actions,\n",
        "            n_features,\n",
        "            learning_rate=0.001,\n",
        "            reward_decay=0.99,\n",
        "            e_greedy=0.9,\n",
        "            replace_target_iter=300,\n",
        "            memory_size=10000,\n",
        "            batch_size=100,\n",
        "            e_greedy_increment=None,\n",
        "            output_graph=False,\n",
        "    ):\n",
        "        self.n_actions = n_actions\n",
        "        self.n_features = n_features\n",
        "        self.lr = learning_rate\n",
        "        self.gamma = reward_decay\n",
        "        self.epsilon_max = e_greedy\n",
        "        self.replace_target_iter = replace_target_iter\n",
        "        self.memory_size = memory_size\n",
        "        self.batch_size = batch_size\n",
        "        self.epsilon_increment = e_greedy_increment\n",
        "        self.epsilon = 0 if e_greedy_increment is not None else self.epsilon_max\n",
        "\n",
        "        # total learning step\n",
        "        self.learn_step_counter = 0\n",
        "\n",
        "        # initialize zero memory [s, a, r, s_]\n",
        "        self.memory = np.zeros((self.memory_size, n_features * 2 + 2))\n",
        "\n",
        "        # consist of [target_net, evaluate_net]\n",
        "        self._build_net()\n",
        "\n",
        "        t_params = tf.get_collection(tf.GraphKeys.GLOBAL_VARIABLES, scope='target_net')\n",
        "        e_params = tf.get_collection(tf.GraphKeys.GLOBAL_VARIABLES, scope='eval_net')\n",
        "\n",
        "        with tf.variable_scope('soft_replacement'):\n",
        "            self.target_replace_op = [tf.assign(t, e) for t, e in zip(t_params, e_params)]\n",
        "\n",
        "        self.sess = tf.Session()\n",
        "\n",
        "        if output_graph:\n",
        "            # $ tensorboard --logdir=logs\n",
        "            tf.summary.FileWriter(\"logs/\", self.sess.graph)\n",
        "\n",
        "        self.sess.run(tf.global_variables_initializer())\n",
        "        self.cost_his = [] #his means histroy\n",
        "\n",
        "    def _build_net(self):\n",
        "        # ------------------ all inputs ------------------------\n",
        "        self.s = tf.placeholder(tf.float32, [None, self.n_features], name='s')  # input State\n",
        "        self.s_ = tf.placeholder(tf.float32, [None, self.n_features], name='s_')  # input Next State\n",
        "        self.r = tf.placeholder(tf.float32, [None, ], name='r')  # input Reward\n",
        "        self.a = tf.placeholder(tf.int32, [None, ], name='a')  # input Action\n",
        "\n",
        "        w_initializer, b_initializer = tf.random_normal_initializer(0., 0.3), tf.constant_initializer(0.1)\n",
        "\n",
        "        # ------------------ build evaluate_net ------------------\n",
        "        with tf.variable_scope('eval_net'):\n",
        "            e1 = tf.layers.dense(self.s, 30, tf.nn.relu, kernel_initializer=w_initializer,\n",
        "                                 bias_initializer=b_initializer, name='e1')\n",
        "            e2 = tf.layers.dense(e1, 30, tf.nn.relu, kernel_initializer=w_initializer,\n",
        "                                 bias_initializer=b_initializer, name='e2')\n",
        "            self.q_eval = tf.layers.dense(e2, self.n_actions, kernel_initializer=w_initializer,\n",
        "                                          bias_initializer=b_initializer, name='q')\n",
        "\n",
        "        # ------------------ build target_net ------------------\n",
        "        with tf.variable_scope('target_net'):\n",
        "            t1 = tf.layers.dense(self.s, 30, tf.nn.relu, kernel_initializer=w_initializer,\n",
        "                                 bias_initializer=b_initializer, name='t1')\n",
        "            t2 = tf.layers.dense(t1, 30, tf.nn.relu, kernel_initializer=w_initializer,\n",
        "                                 bias_initializer=b_initializer, name='t2')\n",
        "            self.q_next = tf.layers.dense(t2, self.n_actions, kernel_initializer=w_initializer,\n",
        "                                          bias_initializer=b_initializer, name='t3')\n",
        "\n",
        "        # ------------------ bellman equation ------------------\n",
        "        with tf.variable_scope('q_target'):\n",
        "            q_target = self.r + self.gamma * tf.reduce_max(self.q_next, axis=1, name='Qmax_s_')    # shape=(None, )\n",
        "            self.q_target = tf.stop_gradient(q_target)\n",
        "            \n",
        "        with tf.variable_scope('q_eval'):\n",
        "            a_indices = tf.stack([tf.range(tf.shape(self.a)[0], dtype=tf.int32), self.a], axis=1)\n",
        "            self.q_eval_wrt_a = tf.gather_nd(params=self.q_eval, indices=a_indices)    # shape=(None, )\n",
        "            \n",
        "        with tf.variable_scope('loss'):\n",
        "            self.loss = tf.reduce_mean(tf.squared_difference(self.q_target, self.q_eval_wrt_a, name='TD_error'))\n",
        "            \n",
        "        with tf.variable_scope('train'):\n",
        "            self._train_op = tf.train.RMSPropOptimizer(self.lr).minimize(self.loss)\n",
        "\n",
        "    def store_transition(self, s, a, r, s_):\n",
        "        if not hasattr(self, 'memory_counter'):\n",
        "            self.memory_counter = 0\n",
        "        transition = np.hstack((s, [a, r], s_))\n",
        "        # replace the old memory with new memory\n",
        "        index = self.memory_counter % self.memory_size\n",
        "        self.memory[index, :] = transition\n",
        "        self.memory_counter += 1\n",
        "\n",
        "    def choose_action(self, observation):\n",
        "        # to have batch dimension when feed into tf placeholder\n",
        "        observation = observation[np.newaxis, :]\n",
        "\n",
        "        if np.random.uniform() < self.epsilon:\n",
        "            # forward feed the observation and get q value for every actions\n",
        "            actions_value = self.sess.run(self.q_eval, feed_dict={self.s: observation})\n",
        "            action_number = np.argmax(actions_value)\n",
        "            \n",
        "            \n",
        "            \n",
        "            print(np.max(actions_value))\n",
        "            \n",
        "            \n",
        "            \n",
        "            if action_number < cache_type:\n",
        "                k = 0\n",
        "                m = 0\n",
        "                c = action_number\n",
        "            elif action_number < cache_type**2:\n",
        "                k = 0\n",
        "                m = int(action_number / cache_type)\n",
        "                c = action_number % cache_type\n",
        "            else:\n",
        "                k = int(action_number / (cache_type**2))\n",
        "                mc = action_number % (cache_type**2)\n",
        "                m = int(mc / cache_type)\n",
        "                c = mc % cache_type\n",
        "            action = np.array([k, m, c])\n",
        "        else:\n",
        "            action = np.array([np.random.randint(0, cache_type), np.random.randint(0, cache_type), np.random.randint(0,cache_type)])\n",
        "        return action\n",
        "\n",
        "    def learn(self):\n",
        "        # check to replace target parameters\n",
        "        if self.learn_step_counter % self.replace_target_iter == 0:\n",
        "            self.sess.run(self.target_replace_op)\n",
        "            # print('\\ntarget_params_replaced\\n')\n",
        "\n",
        "        # sample batch memory from all memory\n",
        "        if self.memory_counter > self.memory_size:\n",
        "            sample_index = np.random.choice(self.memory_size, size=self.batch_size)\n",
        "        else:\n",
        "            sample_index = np.random.choice(self.memory_counter, size=self.batch_size)\n",
        "        batch_memory = self.memory[sample_index, :]\n",
        "\n",
        "        _, cost = self.sess.run(\n",
        "            [self._train_op, self.loss],\n",
        "            feed_dict={\n",
        "                self.s: batch_memory[:, :self.n_features],\n",
        "                self.a: batch_memory[:, self.n_features],\n",
        "                self.r: batch_memory[:, self.n_features + 1],\n",
        "                self.s_: batch_memory[:, -self.n_features:],\n",
        "            })\n",
        "\n",
        "        self.cost_his.append(cost)\n",
        "\n",
        "        # increasing epsilon\n",
        "        self.epsilon = self.epsilon + self.epsilon_increment if self.epsilon < self.epsilon_max else self.epsilon_max\n",
        "        self.learn_step_counter += 1\n",
        "\n",
        "    def plot_cost(self):\n",
        "        plt.plot(np.arange(len(self.cost_his)), self.cost_his)\n",
        "        plt.ylabel('Cost')\n",
        "        plt.xlabel('training steps')\n",
        "        plt.show()"
      ],
      "execution_count": 0,
      "outputs": []
    },
    {
      "metadata": {
        "id": "X2jgsleWYi_Z",
        "colab_type": "text"
      },
      "cell_type": "markdown",
      "source": [
        "# Run&Plot\n",
        "pray for a good performance."
      ]
    },
    {
      "metadata": {
        "id": "Jhj7RayGb4lp",
        "colab_type": "code",
        "colab": {}
      },
      "cell_type": "code",
      "source": [
        "def plot_reward(reward_his):\n",
        "    plt.plot(np.arange(len(reward_his[::1000])), reward_his[::1000])\n",
        "    plt.ylabel('Utility')\n",
        "    plt.xlabel('training steps')\n",
        "    plt.show()"
      ],
      "execution_count": 0,
      "outputs": []
    },
    {
      "metadata": {
        "id": "Ik5D_ItOb4lu",
        "colab_type": "code",
        "colab": {}
      },
      "cell_type": "code",
      "source": [
        "def run(RL, state, action, reward_his):\n",
        "    for _ in tqdm(range(300)):\n",
        "        reset(state,action)\n",
        "        for step in range(4000):\n",
        "            action = RL.choose_action(state)\n",
        "            state_, reward = move(state, action)\n",
        "            reward_his.append(reward)\n",
        "            action_number = action[0] + action[1]*3 + action[2]*9\n",
        "            RL.store_transition(state_, action_number, reward, state)\n",
        "            if(step > 200) and (step % 5 == 0):\n",
        "                    RL.learn()    \n",
        "    print('game over')"
      ],
      "execution_count": 0,
      "outputs": []
    },
    {
      "metadata": {
        "id": "7paNTZKYfwL4",
        "colab_type": "code",
        "colab": {}
      },
      "cell_type": "code",
      "source": [
        "RL = DeepQNetwork(n_actions=action_number, n_features=n_features)"
      ],
      "execution_count": 0,
      "outputs": []
    },
    {
      "metadata": {
        "id": "5jMBo3asf41k",
        "colab_type": "code",
        "colab": {
          "base_uri": "https://localhost:8080/",
          "height": 58
        },
        "outputId": "83c41bb8-36d8-4fb1-a106-5f3aaff2e9c1"
      },
      "cell_type": "code",
      "source": [
        "reward_his = []\n",
        "run(RL, state, action, reward_his)"
      ],
      "execution_count": 13,
      "outputs": [
        {
          "output_type": "stream",
          "text": [
            "100%|██████████| 300/300 [31:46<00:00,  6.36s/it]"
          ],
          "name": "stderr"
        },
        {
          "output_type": "stream",
          "text": [
            "game over\n"
          ],
          "name": "stdout"
        },
        {
          "output_type": "stream",
          "text": [
            "\n"
          ],
          "name": "stderr"
        }
      ]
    },
    {
      "metadata": {
        "id": "DoAieGuyxjA5",
        "colab_type": "code",
        "colab": {
          "base_uri": "https://localhost:8080/",
          "height": 279
        },
        "outputId": "ed6043c0-8800-444d-935d-29ad266e344b"
      },
      "cell_type": "code",
      "source": [
        "RL.plot_cost()"
      ],
      "execution_count": 14,
      "outputs": [
        {
          "output_type": "display_data",
          "data": {
            "image/png": "[encoded data removed]",
            "text/plain": [
              "<matplotlib.figure.Figure at 0x7f8f50262e48>"
            ]
          },
          "metadata": {
            "tags": []
          }
        }
      ]
    },
    {
      "metadata": {
        "id": "7aQvlU6UxmNB",
        "colab_type": "code",
        "colab": {
          "base_uri": "https://localhost:8080/",
          "height": 279
        },
        "outputId": "3b0f5983-d8fa-4653-c490-c4fb9a825aa0"
      },
      "cell_type": "code",
      "source": [
        "plot_reward(reward_his)"
      ],
      "execution_count": 20,
      "outputs": [
        {
          "output_type": "display_data",
          "data": {
            "image/png": "[encoded data removed]",
            "text/plain": [
              "<matplotlib.figure.Figure at 0x7f8f38897b70>"
            ]
          },
          "metadata": {
            "tags": []
          }
        }
      ]
    },
    {
      "metadata": {
        "id": "ieUM0RHoHTFe",
        "colab_type": "text"
      },
      "cell_type": "markdown",
      "source": [
        "效果不好的原因：\n",
        "1. reward选取问题\n",
        "2. reward设计问题\n",
        "2. 网络结构出现逻辑错误\n",
        "3. 神经网络参数不当\n",
        "4. dqn算法无法解决当前问题\n",
        "\n",
        "由图一可以看出，我们可以在一定程度上学习到Q函数，因为loss逐渐变小嘛。但是reward却没上去，猜测方案一:因为它看得是长期收益而非当前收益，我们应当使用长期收益作为最后的价值。"
      ]
    },
    {
      "metadata": {
        "id": "NEKG-VMWh1EY",
        "colab_type": "code",
        "colab": {}
      },
      "cell_type": "code",
      "source": [
        ""
      ],
      "execution_count": 0,
      "outputs": []
    }
  ]
}